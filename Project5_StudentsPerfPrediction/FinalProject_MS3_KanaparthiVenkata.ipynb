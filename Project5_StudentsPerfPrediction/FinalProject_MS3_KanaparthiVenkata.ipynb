{
 "cells": [
  {
   "cell_type": "code",
   "execution_count": 1,
   "metadata": {},
   "outputs": [],
   "source": [
    "import pandas as pd\n",
    "import yellowbrick"
   ]
  },
  {
   "cell_type": "code",
   "execution_count": 2,
   "metadata": {},
   "outputs": [],
   "source": [
    "#Step 1:  Load data into a dataframe\n",
    "addr1 = \"StudentsPerformance.csv\"\n",
    "data = pd.read_csv(addr1)"
   ]
  },
  {
   "cell_type": "code",
   "execution_count": 6,
   "metadata": {},
   "outputs": [
    {
     "data": {
      "text/plain": [
       "pandas.core.frame.DataFrame"
      ]
     },
     "execution_count": 6,
     "metadata": {},
     "output_type": "execute_result"
    }
   ],
   "source": [
    "# Step 2:  check the dimension of the table\n",
    "print(\"The dimension of the table is: \", data.shape)"
   ]
  },
  {
   "cell_type": "code",
   "execution_count": 4,
   "metadata": {},
   "outputs": [
    {
     "name": "stdout",
     "output_type": "stream",
     "text": [
      "   gender race/ethnicity parental level of education         lunch  \\\n",
      "0  female        group B           bachelor's degree      standard   \n",
      "1  female        group C                some college      standard   \n",
      "2  female        group B             master's degree      standard   \n",
      "3    male        group A          associate's degree  free/reduced   \n",
      "4    male        group C                some college      standard   \n",
      "\n",
      "  test preparation course  math score  reading score  writing score  \n",
      "0                    none        72.0           72.0           74.0  \n",
      "1               completed        69.0           90.0           88.0  \n",
      "2                    none        90.0           95.0           93.0  \n",
      "3                    none        47.0           57.0           44.0  \n",
      "4                    none         NaN            NaN            NaN  \n"
     ]
    }
   ],
   "source": [
    "#Step 3:  Look at the data\n",
    "print(data.head(5))"
   ]
  },
  {
   "cell_type": "code",
   "execution_count": 5,
   "metadata": {},
   "outputs": [
    {
     "name": "stdout",
     "output_type": "stream",
     "text": [
      "Describe Data\n",
      "       math score  reading score  writing score\n",
      "count  994.000000     995.000000     994.000000\n",
      "mean    66.113682      69.194975      68.096579\n",
      "std     15.173590      14.600521      15.199470\n",
      "min      0.000000      17.000000      10.000000\n",
      "25%     57.000000      59.000000      58.000000\n",
      "50%     66.000000      70.000000      69.000000\n",
      "75%     77.000000      79.000000      79.000000\n",
      "max    100.000000     100.000000     100.000000\n",
      "Summarized Data\n",
      "        gender race/ethnicity parental level of education     lunch  \\\n",
      "count     1000           1000                        1000      1000   \n",
      "unique       2              5                           6         2   \n",
      "top     female        group C                some college  standard   \n",
      "freq       518            319                         226       645   \n",
      "\n",
      "       test preparation course  \n",
      "count                     1000  \n",
      "unique                       2  \n",
      "top                       none  \n",
      "freq                       642  \n"
     ]
    }
   ],
   "source": [
    "#Step 4:  what type of variables are in the table \n",
    "print(\"Describe Data\")\n",
    "print(data.describe())\n",
    "print(\"Summarized Data\")\n",
    "print(data.describe(include=['O']))"
   ]
  },
  {
   "cell_type": "code",
   "execution_count": 20,
   "metadata": {},
   "outputs": [],
   "source": [
    "# Step 5 - fill in missing values and eliminate features\n",
    "# fill the missing age data with 0\n",
    "\n",
    "def fill_na_most(data_reqfeatures, inplace=True):\n",
    "    return data.fillna(0, inplace=inplace)\n",
    "\n",
    "fill_na_most(data['math score'])\n",
    "fill_na_most(data['reading score'])\n",
    "fill_na_most(data['writing score'])"
   ]
  },
  {
   "cell_type": "code",
   "execution_count": 24,
   "metadata": {},
   "outputs": [
    {
     "name": "stdout",
     "output_type": "stream",
     "text": [
      "   gender race/ethnicity parental level of education         lunch  \\\n",
      "0  female        group B           bachelor's degree      standard   \n",
      "1  female        group C                some college      standard   \n",
      "2  female        group B             master's degree      standard   \n",
      "3    male        group A          associate's degree  free/reduced   \n",
      "4    male        group C                some college      standard   \n",
      "\n",
      "  test preparation course  math score  reading score  writing score  \\\n",
      "0                    none        72.0           72.0           74.0   \n",
      "1               completed        69.0           90.0           88.0   \n",
      "2                    none        90.0           95.0           93.0   \n",
      "3                    none        47.0           57.0           44.0   \n",
      "4                    none         0.0            0.0            0.0   \n",
      "\n",
      "   totalScore  \n",
      "0       218.0  \n",
      "1       247.0  \n",
      "2       278.0  \n",
      "3       148.0  \n",
      "4         0.0  \n"
     ]
    }
   ],
   "source": [
    "# Step 6 - Calculating the total score of a student across all the tests\n",
    "# Creating a new variable totalScore to save the data\n",
    "for i in data.index:\n",
    "    data.at[i, 'totalScore'] = 0      \n",
    "    if data.at[i,'math score'] > 0:\n",
    "        #print(\"1: \",data.at[i,'math score'])\n",
    "        data.at[i, 'totalScore'] = data.at[i, 'totalScore'] + data.at[i,'math score']\n",
    "        #print(\"1: \",data.at[i, 'totalScore'])\n",
    "    if data.at[i,'reading score'] > 0:\n",
    "        #print(\"2: \",data.at[i,'reading score'])\n",
    "        data.at[i, 'totalScore'] = data.at[i, 'totalScore'] + data.at[i,'reading score'] \n",
    "        #print(\"2: \",data.at[i, 'totalScore'])\n",
    "    if data.at[i,'writing score'] > 0:\n",
    "        #print(\"3: \",data.at[i,'writing score'])\n",
    "        data.at[i, 'totalScore'] = data.at[i, 'totalScore'] + data.at[i,'writing score'] \n",
    "        #print(\"3: \",data.at[i, 'totalScore'])\n",
    "print(data.head(5))"
   ]
  },
  {
   "cell_type": "code",
   "execution_count": 46,
   "metadata": {},
   "outputs": [
    {
     "name": "stdout",
     "output_type": "stream",
     "text": [
      "   gender race/ethnicity parental level of education         lunch  \\\n",
      "0  female        group B           bachelor's degree      standard   \n",
      "1  female        group C                some college      standard   \n",
      "2  female        group B             master's degree      standard   \n",
      "3    male        group A          associate's degree  free/reduced   \n",
      "4    male        group C                some college      standard   \n",
      "\n",
      "  test preparation course  math score  reading score  writing score  \\\n",
      "0                    none        72.0           72.0           74.0   \n",
      "1               completed        69.0           90.0           88.0   \n",
      "2                    none        90.0           95.0           93.0   \n",
      "3                    none        47.0           57.0           44.0   \n",
      "4                    none         0.0            0.0            0.0   \n",
      "\n",
      "   totalScore grade  \n",
      "0       218.0  Fail  \n",
      "1       247.0  Pass  \n",
      "2       278.0  Pass  \n",
      "3       148.0  Fail  \n",
      "4         0.0  Fail  \n"
     ]
    }
   ],
   "source": [
    "# Step 7 - Creating a variable based on the performance on the student\n",
    "# Adding a cutoff, if\n",
    "# Total Score of the student is greater than or equal to 225\n",
    "#      Student Pass\n",
    "# Else\n",
    "#      Student Fail\n",
    "# We will use the Grading as a target variable\n",
    "for i in data.index:\n",
    "    if data.at[i, 'totalScore'] >= 225:\n",
    "        data.at[i, 'grade'] = 'Pass'\n",
    "    if data.at[i, 'totalScore'] < 225:\n",
    "        data.at[i, 'grade'] = 'Fail'\n",
    "print(data.head(5))"
   ]
  },
  {
   "cell_type": "code",
   "execution_count": 51,
   "metadata": {},
   "outputs": [],
   "source": [
    "# Step 8 - convert categorical data to numbers\n",
    "# get the categorical data\n",
    "cat_features = ['gender', 'test preparation course','race/ethnicity','parental level of education']\n",
    "data_cat = data[cat_features]\n",
    "data_cat = data_cat.replace({'gender': {1: '1st', 2: '2nd'}})\n",
    "# One Hot Encoding \n",
    "data_cat_dummies = pd.get_dummies(data_cat)\n",
    "# check the data\n",
    "#print(data_cat_dummies.head())"
   ]
  },
  {
   "cell_type": "code",
   "execution_count": 48,
   "metadata": {},
   "outputs": [
    {
     "name": "stdout",
     "output_type": "stream",
     "text": [
      "No. of samples in training set:  700\n",
      "No. of samples in validation set: 300\n",
      "\n",
      "\n",
      "No. of Pass and Fail in the training set:\n",
      "Fail    480\n",
      "Pass    220\n",
      "Name: grade, dtype: int64\n",
      "\n",
      "\n",
      "No. of Pass and Fail in the validation set:\n",
      "Fail    198\n",
      "Pass    102\n",
      "Name: grade, dtype: int64\n"
     ]
    }
   ],
   "source": [
    "# Step 9 - create a whole features dataset that can be used for train and validation data splitting\n",
    "# here we will combine the numerical features and the dummie features together\n",
    "features_model = ['math score','reading score','writing score','totalScore']\n",
    "data_model_X = pd.concat([data[features_model], data_cat_dummies], axis=1)\n",
    "\n",
    "# create a whole target dataset that can be used for train and validation data splitting\n",
    "data_model_y = data.replace({'grade': {1: 'Pass', 0: 'Fail'}})['grade']\n",
    "#data_model_y = data['grade']  \n",
    "\n",
    "# separate data into training and validation and check the details of the datasets\n",
    "# import packages\n",
    "from sklearn.model_selection import train_test_split\n",
    "\n",
    "# split the data\n",
    "X_train, X_val, y_train, y_val = train_test_split(data_model_X, data_model_y, test_size =0.3, random_state=11)\n",
    "\n",
    "# number of samples in each set\n",
    "print(\"No. of samples in training set: \", X_train.shape[0])\n",
    "print(\"No. of samples in validation set:\", X_val.shape[0])\n",
    "\n",
    "# Pass and Fail\n",
    "print('\\n')\n",
    "print('No. of Pass and Fail in the training set:')\n",
    "print(y_train.value_counts())\n",
    "\n",
    "print('\\n')\n",
    "print('No. of Pass and Fail in the validation set:')\n",
    "print(y_val.value_counts())\n",
    "#print(y_val)"
   ]
  },
  {
   "cell_type": "code",
   "execution_count": 52,
   "metadata": {},
   "outputs": [
    {
     "name": "stderr",
     "output_type": "stream",
     "text": [
      "E:\\AnacondaSoft\\lib\\site-packages\\sklearn\\linear_model\\_logistic.py:762: ConvergenceWarning: lbfgs failed to converge (status=1):\n",
      "STOP: TOTAL NO. of ITERATIONS REACHED LIMIT.\n",
      "\n",
      "Increase the number of iterations (max_iter) or scale the data as shown in:\n",
      "    https://scikit-learn.org/stable/modules/preprocessing.html\n",
      "Please also refer to the documentation for alternative solver options:\n",
      "    https://scikit-learn.org/stable/modules/linear_model.html#logistic-regression\n",
      "  n_iter_i = _check_optimize_result(\n"
     ]
    },
    {
     "data": {
      "image/png": "[encoded data removed]",
      "text/plain": [
       "<Figure size 1080x504 with 1 Axes>"
      ]
     },
     "metadata": {},
     "output_type": "display_data"
    },
    {
     "data": {
      "image/png": "[encoded data removed]",
      "text/plain": [
       "<Figure size 1080x504 with 2 Axes>"
      ]
     },
     "metadata": {},
     "output_type": "display_data"
    }
   ],
   "source": [
    "# Step 10 - Eval Metrics\n",
    "from sklearn.linear_model import LogisticRegression\n",
    "\n",
    "from yellowbrick.classifier import ConfusionMatrix\n",
    "from yellowbrick.classifier import ClassificationReport\n",
    "from yellowbrick.classifier import ROCAUC\n",
    "\n",
    "# Instantiate the classification model \n",
    "model = LogisticRegression()\n",
    "\n",
    "#The ConfusionMatrix visualizer taxes a model\n",
    "classes = ['Fail','Pass']\n",
    "cm = ConfusionMatrix(model, classes=classes, percent=False)\n",
    "\n",
    "#Fit fits the passed model. This is unnecessary if you pass the visualizer a pre-fitted model\n",
    "cm.fit(X_train, y_train)\n",
    "\n",
    "#To create the ConfusionMatrix, we need some test data. Score runs predict() on the data\n",
    "#and then creates the confusion_matrix from scikit learn.\n",
    "cm.score(X_val, y_val)\n",
    "\n",
    "# change fontsize of the labels in the figure\n",
    "for label in cm.ax.texts:\n",
    "    label.set_size(20)\n",
    "\n",
    "#How did we do?\n",
    "cm.poof()\n",
    "\n",
    "# Precision, Recall, and F1 Score\n",
    "# set the size of the figure and the font size \n",
    "#%matplotlib inline\n",
    "import matplotlib.pyplot as plt\n",
    "plt.rcParams['figure.figsize'] = (15, 7)\n",
    "plt.rcParams['font.size'] = 20\n",
    "\n",
    "# Instantiate the visualizer\n",
    "visualizer = ClassificationReport(model, classes=classes)\n",
    "\n",
    "visualizer.fit(X_train, y_train)  # Fit the training data to the visualizer\n",
    "visualizer.score(X_val, y_val)  # Evaluate the model on the test data\n",
    "g = visualizer.poof()"
   ]
  },
  {
   "cell_type": "code",
   "execution_count": 59,
   "metadata": {},
   "outputs": [
    {
     "name": "stdout",
     "output_type": "stream",
     "text": [
      "No. of samples in training set:  700\n",
      "No. of samples in validation set: 300\n",
      "\n",
      "\n",
      "No. of Pass and Fail in the training set:\n",
      "0    480\n",
      "1    220\n",
      "Name: grade, dtype: int64\n",
      "\n",
      "\n",
      "No. of Pass and Fail in the validation set:\n",
      "0    198\n",
      "1    102\n",
      "Name: grade, dtype: int64\n"
     ]
    }
   ],
   "source": [
    "# Step 11 - create a whole features dataset that can be used for train and validation data splitting\n",
    "# here we will combine the numerical features and the dummie features together\n",
    "features_model = ['math score','reading score','writing score','totalScore']\n",
    "data_model_X = pd.concat([data[features_model], data_cat_dummies], axis=1)\n",
    "\n",
    "# create a whole target dataset that can be used for train and validation data splitting\n",
    "data_model_y = data.replace({'grade': {'Pass': 1, 'Fail': 0}})['grade']\n",
    "#data_model_y = data['grade']  \n",
    "\n",
    "# separate data into training and validation and check the details of the datasets\n",
    "# import packages\n",
    "from sklearn.model_selection import train_test_split\n",
    "\n",
    "# split the data\n",
    "X_train, X_val, y_train, y_val = train_test_split(data_model_X, data_model_y, test_size =0.3, random_state=11)\n",
    "\n",
    "# number of samples in each set\n",
    "print(\"No. of samples in training set: \", X_train.shape[0])\n",
    "print(\"No. of samples in validation set:\", X_val.shape[0])\n",
    "\n",
    "# Pass and Fail\n",
    "print('\\n')\n",
    "print('No. of Pass and Fail in the training set:')\n",
    "print(y_train.value_counts())\n",
    "\n",
    "print('\\n')\n",
    "print('No. of Pass and Fail in the validation set:')\n",
    "print(y_val.value_counts())\n",
    "#print(y_val)"
   ]
  },
  {
   "cell_type": "code",
   "execution_count": 67,
   "metadata": {},
   "outputs": [
    {
     "name": "stdout",
     "output_type": "stream",
     "text": [
      "Accuracy: 55.83%\n",
      "Root mean squared error:  0.3148138310155848\n"
     ]
    }
   ],
   "source": [
    "# Step 12 - Fitting a Linear Model to the Data and Evaluating Metrics on the performance\n",
    "from sklearn.linear_model import LinearRegression\n",
    "from sklearn import metrics\n",
    "import numpy as np\n",
    "\n",
    "# Instantiate the classification model \n",
    "model = LinearRegression().fit(X_train, y_train)\n",
    "print(f\"Accuracy: {round(model.score(X_val, y_val) , 5)*100:0.2f}%\")\n",
    "y_pred = model.predict(X_val)\n",
    "print(\"Root mean squared error: \",np.sqrt(metrics.mean_squared_error(y_val, y_pred)))"
   ]
  }
 ],
 "metadata": {
  "kernelspec": {
   "display_name": "Python 3",
   "language": "python",
   "name": "python3"
  },
  "language_info": {
   "codemirror_mode": {
    "name": "ipython",
    "version": 3
   },
   "file_extension": ".py",
   "mimetype": "text/x-python",
   "name": "python",
   "nbconvert_exporter": "python",
   "pygments_lexer": "ipython3",
   "version": "3.6.10"
  }
 },
 "nbformat": 4,
 "nbformat_minor": 4
}
