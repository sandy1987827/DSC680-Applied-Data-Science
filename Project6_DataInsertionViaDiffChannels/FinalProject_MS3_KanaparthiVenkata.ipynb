{
 "cells": [
  {
   "cell_type": "code",
   "execution_count": 11,
   "metadata": {},
   "outputs": [],
   "source": [
    "from bs4 import BeautifulSoup\n",
    "import pandas as pd\n",
    "import numpy as np"
   ]
  },
  {
   "cell_type": "code",
   "execution_count": 4,
   "metadata": {},
   "outputs": [
    {
     "data": {
      "text/html": [
       "<div>\n",
       "<style scoped>\n",
       "    .dataframe tbody tr th:only-of-type {\n",
       "        vertical-align: middle;\n",
       "    }\n",
       "\n",
       "    .dataframe tbody tr th {\n",
       "        vertical-align: top;\n",
       "    }\n",
       "\n",
       "    .dataframe thead th {\n",
       "        text-align: right;\n",
       "    }\n",
       "</style>\n",
       "<table border=\"1\" class=\"dataframe\">\n",
       "  <thead>\n",
       "    <tr style=\"text-align: right;\">\n",
       "      <th></th>\n",
       "      <th>Brewery</th>\n",
       "      <th>Location</th>\n",
       "    </tr>\n",
       "  </thead>\n",
       "  <tbody>\n",
       "    <tr>\n",
       "      <th>0</th>\n",
       "      <td>1623 Brewing Company</td>\n",
       "      <td>Eldersburg</td>\n",
       "    </tr>\n",
       "    <tr>\n",
       "      <th>1</th>\n",
       "      <td>1812 Brewery</td>\n",
       "      <td>Cumberland</td>\n",
       "    </tr>\n",
       "    <tr>\n",
       "      <th>2</th>\n",
       "      <td>7 Locks Brewing</td>\n",
       "      <td>Rockville</td>\n",
       "    </tr>\n",
       "    <tr>\n",
       "      <th>3</th>\n",
       "      <td>AleCraft Brewery</td>\n",
       "      <td>Bel Air</td>\n",
       "    </tr>\n",
       "    <tr>\n",
       "      <th>4</th>\n",
       "      <td>Antietam Brewery</td>\n",
       "      <td>Hagerstown</td>\n",
       "    </tr>\n",
       "    <tr>\n",
       "      <th>...</th>\n",
       "      <td>...</td>\n",
       "      <td>...</td>\n",
       "    </tr>\n",
       "    <tr>\n",
       "      <th>100</th>\n",
       "      <td>Waredaca Brewing Co.</td>\n",
       "      <td>Gaithersburg</td>\n",
       "    </tr>\n",
       "    <tr>\n",
       "      <th>101</th>\n",
       "      <td>Waverly Brewing Co.</td>\n",
       "      <td>Baltimore (Hampden)</td>\n",
       "    </tr>\n",
       "    <tr>\n",
       "      <th>102</th>\n",
       "      <td>Wet City Brewing</td>\n",
       "      <td>Baltimore (Mount Vernon)</td>\n",
       "    </tr>\n",
       "    <tr>\n",
       "      <th>103</th>\n",
       "      <td>White Marsh Brewing Co.</td>\n",
       "      <td>White Marsh</td>\n",
       "    </tr>\n",
       "    <tr>\n",
       "      <th>104</th>\n",
       "      <td>Wild Goose Brewery</td>\n",
       "      <td>Easton</td>\n",
       "    </tr>\n",
       "  </tbody>\n",
       "</table>\n",
       "<p>105 rows × 2 columns</p>\n",
       "</div>"
      ],
      "text/plain": [
       "                     Brewery                  Location\n",
       "0       1623 Brewing Company                Eldersburg\n",
       "1               1812 Brewery                Cumberland\n",
       "2            7 Locks Brewing                 Rockville\n",
       "3           AleCraft Brewery                   Bel Air\n",
       "4           Antietam Brewery                Hagerstown\n",
       "..                       ...                       ...\n",
       "100     Waredaca Brewing Co.              Gaithersburg\n",
       "101      Waverly Brewing Co.       Baltimore (Hampden)\n",
       "102         Wet City Brewing  Baltimore (Mount Vernon)\n",
       "103  White Marsh Brewing Co.               White Marsh\n",
       "104       Wild Goose Brewery                    Easton\n",
       "\n",
       "[105 rows x 2 columns]"
      ]
     },
     "execution_count": 4,
     "metadata": {},
     "output_type": "execute_result"
    }
   ],
   "source": [
    "url='https://en.wikipedia.org/wiki/List_of_breweries_in_Maryland'\n",
    "dfs = pd.read_html(url)\n",
    "df = dfs[1]\n",
    "df"
   ]
  },
  {
   "cell_type": "markdown",
   "metadata": {},
   "source": [
    "### 1. Replace the Headers"
   ]
  },
  {
   "cell_type": "code",
   "execution_count": 5,
   "metadata": {},
   "outputs": [
    {
     "data": {
      "text/plain": [
       "['brewery_name', 'location_name']"
      ]
     },
     "execution_count": 5,
     "metadata": {},
     "output_type": "execute_result"
    }
   ],
   "source": [
    "names = []\n",
    "with open('maryLand_names.txt', 'r') as f:\n",
    "    for line in f:\n",
    "        f.readline()\n",
    "        var = line.split(\":\")[0]\n",
    "        names.append(var)\n",
    "names"
   ]
  },
  {
   "cell_type": "code",
   "execution_count": 6,
   "metadata": {},
   "outputs": [
    {
     "data": {
      "text/html": [
       "<div>\n",
       "<style scoped>\n",
       "    .dataframe tbody tr th:only-of-type {\n",
       "        vertical-align: middle;\n",
       "    }\n",
       "\n",
       "    .dataframe tbody tr th {\n",
       "        vertical-align: top;\n",
       "    }\n",
       "\n",
       "    .dataframe thead th {\n",
       "        text-align: right;\n",
       "    }\n",
       "</style>\n",
       "<table border=\"1\" class=\"dataframe\">\n",
       "  <thead>\n",
       "    <tr style=\"text-align: right;\">\n",
       "      <th></th>\n",
       "      <th>brewery_name</th>\n",
       "      <th>location_name</th>\n",
       "    </tr>\n",
       "  </thead>\n",
       "  <tbody>\n",
       "    <tr>\n",
       "      <th>0</th>\n",
       "      <td>1623 Brewing Company</td>\n",
       "      <td>Eldersburg</td>\n",
       "    </tr>\n",
       "    <tr>\n",
       "      <th>1</th>\n",
       "      <td>1812 Brewery</td>\n",
       "      <td>Cumberland</td>\n",
       "    </tr>\n",
       "    <tr>\n",
       "      <th>2</th>\n",
       "      <td>7 Locks Brewing</td>\n",
       "      <td>Rockville</td>\n",
       "    </tr>\n",
       "    <tr>\n",
       "      <th>3</th>\n",
       "      <td>AleCraft Brewery</td>\n",
       "      <td>Bel Air</td>\n",
       "    </tr>\n",
       "    <tr>\n",
       "      <th>4</th>\n",
       "      <td>Antietam Brewery</td>\n",
       "      <td>Hagerstown</td>\n",
       "    </tr>\n",
       "  </tbody>\n",
       "</table>\n",
       "</div>"
      ],
      "text/plain": [
       "           brewery_name location_name\n",
       "0  1623 Brewing Company    Eldersburg\n",
       "1          1812 Brewery    Cumberland\n",
       "2       7 Locks Brewing     Rockville\n",
       "3      AleCraft Brewery       Bel Air\n",
       "4      Antietam Brewery    Hagerstown"
      ]
     },
     "execution_count": 6,
     "metadata": {},
     "output_type": "execute_result"
    }
   ],
   "source": [
    "df.columns = names\n",
    "df.head()"
   ]
  },
  {
   "cell_type": "markdown",
   "metadata": {},
   "source": [
    "### 2. Create a data set with required columns"
   ]
  },
  {
   "cell_type": "code",
   "execution_count": 7,
   "metadata": {},
   "outputs": [
    {
     "data": {
      "text/html": [
       "<div>\n",
       "<style scoped>\n",
       "    .dataframe tbody tr th:only-of-type {\n",
       "        vertical-align: middle;\n",
       "    }\n",
       "\n",
       "    .dataframe tbody tr th {\n",
       "        vertical-align: top;\n",
       "    }\n",
       "\n",
       "    .dataframe thead th {\n",
       "        text-align: right;\n",
       "    }\n",
       "</style>\n",
       "<table border=\"1\" class=\"dataframe\">\n",
       "  <thead>\n",
       "    <tr style=\"text-align: right;\">\n",
       "      <th></th>\n",
       "      <th>brewery_name</th>\n",
       "      <th>location_name</th>\n",
       "    </tr>\n",
       "  </thead>\n",
       "  <tbody>\n",
       "    <tr>\n",
       "      <th>0</th>\n",
       "      <td>1623 Brewing Company</td>\n",
       "      <td>Eldersburg</td>\n",
       "    </tr>\n",
       "    <tr>\n",
       "      <th>1</th>\n",
       "      <td>1812 Brewery</td>\n",
       "      <td>Cumberland</td>\n",
       "    </tr>\n",
       "    <tr>\n",
       "      <th>2</th>\n",
       "      <td>7 Locks Brewing</td>\n",
       "      <td>Rockville</td>\n",
       "    </tr>\n",
       "    <tr>\n",
       "      <th>3</th>\n",
       "      <td>AleCraft Brewery</td>\n",
       "      <td>Bel Air</td>\n",
       "    </tr>\n",
       "    <tr>\n",
       "      <th>4</th>\n",
       "      <td>Antietam Brewery</td>\n",
       "      <td>Hagerstown</td>\n",
       "    </tr>\n",
       "    <tr>\n",
       "      <th>...</th>\n",
       "      <td>...</td>\n",
       "      <td>...</td>\n",
       "    </tr>\n",
       "    <tr>\n",
       "      <th>100</th>\n",
       "      <td>Waredaca Brewing Co.</td>\n",
       "      <td>Gaithersburg</td>\n",
       "    </tr>\n",
       "    <tr>\n",
       "      <th>101</th>\n",
       "      <td>Waverly Brewing Co.</td>\n",
       "      <td>Baltimore (Hampden)</td>\n",
       "    </tr>\n",
       "    <tr>\n",
       "      <th>102</th>\n",
       "      <td>Wet City Brewing</td>\n",
       "      <td>Baltimore (Mount Vernon)</td>\n",
       "    </tr>\n",
       "    <tr>\n",
       "      <th>103</th>\n",
       "      <td>White Marsh Brewing Co.</td>\n",
       "      <td>White Marsh</td>\n",
       "    </tr>\n",
       "    <tr>\n",
       "      <th>104</th>\n",
       "      <td>Wild Goose Brewery</td>\n",
       "      <td>Easton</td>\n",
       "    </tr>\n",
       "  </tbody>\n",
       "</table>\n",
       "<p>105 rows × 2 columns</p>\n",
       "</div>"
      ],
      "text/plain": [
       "                brewery_name             location_name\n",
       "0       1623 Brewing Company                Eldersburg\n",
       "1               1812 Brewery                Cumberland\n",
       "2            7 Locks Brewing                 Rockville\n",
       "3           AleCraft Brewery                   Bel Air\n",
       "4           Antietam Brewery                Hagerstown\n",
       "..                       ...                       ...\n",
       "100     Waredaca Brewing Co.              Gaithersburg\n",
       "101      Waverly Brewing Co.       Baltimore (Hampden)\n",
       "102         Wet City Brewing  Baltimore (Mount Vernon)\n",
       "103  White Marsh Brewing Co.               White Marsh\n",
       "104       Wild Goose Brewery                    Easton\n",
       "\n",
       "[105 rows x 2 columns]"
      ]
     },
     "execution_count": 7,
     "metadata": {},
     "output_type": "execute_result"
    }
   ],
   "source": [
    "df1=df[['brewery_name','location_name']]\n",
    "df1"
   ]
  },
  {
   "cell_type": "markdown",
   "metadata": {},
   "source": [
    "### 3. Find duplicates"
   ]
  },
  {
   "cell_type": "code",
   "execution_count": 8,
   "metadata": {},
   "outputs": [
    {
     "name": "stdout",
     "output_type": "stream",
     "text": [
      "Postal Code is duplictaed - True\n"
     ]
    }
   ],
   "source": [
    "print(\"Location Name is duplictaed - {}\".format(any(df.location_name.duplicated())))"
   ]
  },
  {
   "cell_type": "markdown",
   "metadata": {},
   "source": [
    "### 4. Find Null values"
   ]
  },
  {
   "cell_type": "code",
   "execution_count": 9,
   "metadata": {},
   "outputs": [
    {
     "name": "stdout",
     "output_type": "stream",
     "text": [
      "The column Location name contains NaN - False \n"
     ]
    }
   ],
   "source": [
    "print(\"The column Location name contains NaN - %r \" % df.location_name.isnull().values.any())"
   ]
  },
  {
   "cell_type": "markdown",
   "metadata": {},
   "source": [
    "### 5. Identify outliers and bad data"
   ]
  },
  {
   "cell_type": "code",
   "execution_count": 16,
   "metadata": {},
   "outputs": [
    {
     "name": "stdout",
     "output_type": "stream",
     "text": [
      "The size of previous data was - 105 rows and the size of the new one is - 105 rows\n"
     ]
    }
   ],
   "source": [
    "size_prev = df.shape\n",
    "df = df.dropna()\n",
    "size_after = df.shape\n",
    "print(\"The size of previous data was - {prev[0]} rows and the size of the new one is - {after[0]} rows\".\n",
    "      format(prev=size_prev, after=size_after))"
   ]
  }
 ],
 "metadata": {
  "kernelspec": {
   "display_name": "Python 3",
   "language": "python",
   "name": "python3"
  },
  "language_info": {
   "codemirror_mode": {
    "name": "ipython",
    "version": 3
   },
   "file_extension": ".py",
   "mimetype": "text/x-python",
   "name": "python",
   "nbconvert_exporter": "python",
   "pygments_lexer": "ipython3",
   "version": "3.6.10"
  }
 },
 "nbformat": 4,
 "nbformat_minor": 4
}
